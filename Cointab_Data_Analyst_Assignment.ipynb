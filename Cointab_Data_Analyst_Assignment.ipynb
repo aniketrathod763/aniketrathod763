{
  "nbformat": 4,
  "nbformat_minor": 0,
  "metadata": {
    "colab": {
      "provenance": [],
      "authorship_tag": "ABX9TyM8m/nIRjANRmg7ACobGBxI",
      "include_colab_link": true
    },
    "kernelspec": {
      "name": "python3",
      "display_name": "Python 3"
    },
    "language_info": {
      "name": "python"
    }
  },
  "cells": [
    {
      "cell_type": "markdown",
      "metadata": {
        "id": "view-in-github",
        "colab_type": "text"
      },
      "source": [
        "<a href=\"https://colab.research.google.com/github/aniketrathod763/aniketrathod763/blob/main/Cointab_Data_Analyst_Assignment.ipynb\" target=\"_parent\"><img src=\"https://colab.research.google.com/assets/colab-badge.svg\" alt=\"Open In Colab\"/></a>"
      ]
    },
    {
      "cell_type": "code",
      "source": [
        "import pandas as pd"
      ],
      "metadata": {
        "id": "7w-Ijs1QfajD"
      },
      "execution_count": 68,
      "outputs": []
    },
    {
      "cell_type": "code",
      "source": [
        "order_report = pd.read_excel('Company X - Order Report.xlsx')"
      ],
      "metadata": {
        "id": "8bem9sCr7AB8"
      },
      "execution_count": 69,
      "outputs": []
    },
    {
      "cell_type": "code",
      "source": [
        "sku_master = pd.read_excel('/content/Company X - SKU Master.xlsx')\n",
        "\n"
      ],
      "metadata": {
        "id": "LabIHBXn-kMq"
      },
      "execution_count": 70,
      "outputs": []
    },
    {
      "cell_type": "code",
      "source": [
        "pincode_zones = pd.read_excel('/content/Company X - Pincode Zones.xlsx')"
      ],
      "metadata": {
        "id": "3rYUJB5yh0HO"
      },
      "execution_count": 71,
      "outputs": []
    },
    {
      "cell_type": "code",
      "source": [
        "courier_rates = pd.read_excel('/content/Courier Company - Rates.xlsx')"
      ],
      "metadata": {
        "id": "L2wdyPcL-3Q0"
      },
      "execution_count": 72,
      "outputs": []
    },
    {
      "cell_type": "code",
      "source": [
        "courier_invoice = pd.read_excel('/content/Courier Company - Invoice.xlsx')"
      ],
      "metadata": {
        "id": "6Smkvd8--v5q"
      },
      "execution_count": 73,
      "outputs": []
    },
    {
      "cell_type": "code",
      "source": [
        "# Calculate the total weight of each order\n",
        "order_report_weight = pd.merge(order_report, sku_master, on='SKU', how='left')\n",
        "order_report_weight['Total Weight (kg)'] = (order_report_weight['Order Qty'] * order_report_weight['Weight (g)']) / 1000\n",
        "order_total_weight = order_report_weight.groupby('ExternOrderNo')['Total Weight (kg)'].sum().reset_index()"
      ],
      "metadata": {
        "id": "JbkDpvPDiPtJ"
      },
      "execution_count": 74,
      "outputs": []
    },
    {
      "cell_type": "code",
      "source": [
        "print(pincode_zone.head())\n",
        "print(courier_invoice.head())\n",
        "print(order_zones.head())"
      ],
      "metadata": {
        "colab": {
          "base_uri": "https://localhost:8080/"
        },
        "id": "ulTaqg9Tja4q",
        "outputId": "a42ca602-2a41-47c3-b0cb-5cd99c2ec665"
      },
      "execution_count": 75,
      "outputs": [
        {
          "output_type": "stream",
          "name": "stdout",
          "text": [
            "   Warehouse_Pincode  Customer_Pincode Zone\n",
            "0             121003            507101    d\n",
            "1             121003            486886    d\n",
            "2             121003            532484    d\n",
            "3             121003            143001    b\n",
            "4             121003            515591    d\n",
            "        AWB Code    Order ID  Charged Weight  Warehouse Pincode  \\\n",
            "0  1091117222124  2001806232            1.30             121003   \n",
            "1  1091117222194  2001806273            1.00             121003   \n",
            "2  1091117222931  2001806408            2.50             121003   \n",
            "3  1091117223244  2001806458            1.00             121003   \n",
            "4  1091117229345  2001807012            0.15             121003   \n",
            "\n",
            "   Customer Pincode Zone Type of Shipment  Billing Amount (Rs.)  \n",
            "0            507101    d  Forward charges                 135.0  \n",
            "1            486886    d  Forward charges                  90.2  \n",
            "2            532484    d  Forward charges                 224.6  \n",
            "3            143001    b  Forward charges                  61.3  \n",
            "4            515591    d  Forward charges                  45.4  \n",
            "   ExternOrderNo  Total Weight (kg)    Order ID  Warehouse_Pincode  \\\n",
            "0     2001806210              0.220  2001806210             121003   \n",
            "1     2001806226              0.480  2001806226             121003   \n",
            "2     2001806229              0.500  2001806229             121003   \n",
            "3     2001806232              1.302  2001806232             121003   \n",
            "4     2001806233              0.245  2001806233             121003   \n",
            "\n",
            "   Customer_Pincode Zone  \n",
            "0            140604    b  \n",
            "1            723146    d  \n",
            "2            421204    d  \n",
            "3            507101    d  \n",
            "4            263139    b  \n"
          ]
        }
      ]
    },
    {
      "cell_type": "code",
      "source": [
        "# Determine the zone for each order\n",
        "pincode_zones.rename(columns={'Warehouse Pincode': 'Warehouse_Pincode', 'Customer Pincode': 'Customer_Pincode'}, inplace=True)\n",
        "courier_invoice.rename(columns={'Warehouse Pincode': 'Warehouse_Pincode', 'Customer Pincode': 'Customer_Pincode'}, inplace=True)\n",
        "order_zones = pd.merge(order_total_weight, courier_invoice[['Order ID', 'Warehouse_Pincode', 'Customer_Pincode']], left_on='ExternOrderNo', right_on='Order ID', how='left')\n",
        "order_zones = pd.merge(order_zones, pincode_zones, on=['Warehouse_Pincode', 'Customer_Pincode'], how='left')\n"
      ],
      "metadata": {
        "id": "iNvbDwHjn29q"
      },
      "execution_count": 76,
      "outputs": []
    },
    {
      "cell_type": "code",
      "source": [
        "# Merge the order zones with the courier rates\n",
        "order_rates = pd.merge(order_zones, courier_rates, on='Zone', how='left')"
      ],
      "metadata": {
        "id": "YSCrwVnAkMYF"
      },
      "execution_count": 77,
      "outputs": []
    },
    {
      "cell_type": "code",
      "source": [
        "print(order_zones.head())\n",
        "print(courier_rates.head())"
      ],
      "metadata": {
        "colab": {
          "base_uri": "https://localhost:8080/"
        },
        "id": "7xBW9vmAkx-f",
        "outputId": "ddaab9e0-8cbb-4a28-d1f1-cf090dfdbd1d"
      },
      "execution_count": 78,
      "outputs": [
        {
          "output_type": "stream",
          "name": "stdout",
          "text": [
            "   ExternOrderNo  Total Weight (kg)    Order ID  Warehouse_Pincode  \\\n",
            "0     2001806210              0.220  2001806210             121003   \n",
            "1     2001806226              0.480  2001806226             121003   \n",
            "2     2001806229              0.500  2001806229             121003   \n",
            "3     2001806232              1.302  2001806232             121003   \n",
            "4     2001806233              0.245  2001806233             121003   \n",
            "\n",
            "   Customer_Pincode Zone  \n",
            "0            140604    b  \n",
            "1            723146    d  \n",
            "2            421204    d  \n",
            "3            507101    d  \n",
            "4            263139    b  \n",
            "  Zone  Weight Slabs  Forward Fixed Charge  \\\n",
            "0    A          0.50                  29.5   \n",
            "1    B          1.00                  33.0   \n",
            "2    C          1.25                  40.1   \n",
            "3    D          1.50                  45.4   \n",
            "4    E          2.00                  56.6   \n",
            "\n",
            "   Forward Additional Weight Slab Charge  RTO Fixed Charge  \\\n",
            "0                                   23.6              13.6   \n",
            "1                                   28.3              20.5   \n",
            "2                                   38.9              31.9   \n",
            "3                                   44.8              41.3   \n",
            "4                                   55.5              50.7   \n",
            "\n",
            "   RTO Additional Weight Slab Charge  \n",
            "0                               23.6  \n",
            "1                               28.3  \n",
            "2                               38.9  \n",
            "3                               44.8  \n",
            "4                               55.5  \n"
          ]
        }
      ]
    },
    {
      "cell_type": "code",
      "source": [
        "print('Zone' in order_zones.columns)\n",
        "print('Zone' in courier_rates.columns)"
      ],
      "metadata": {
        "colab": {
          "base_uri": "https://localhost:8080/"
        },
        "id": "g2nMapT9k2b2",
        "outputId": "9f276a27-5d55-4c37-e307-1857a590f257"
      },
      "execution_count": 79,
      "outputs": [
        {
          "output_type": "stream",
          "name": "stdout",
          "text": [
            "True\n",
            "True\n"
          ]
        }
      ]
    },
    {
      "cell_type": "code",
      "source": [
        "# Function to calculate the billing amount\n",
        "def calculate_billing_amount(row):\n",
        "    fixed_charge = row['Forward Fixed Charge']\n",
        "    additional_weight = max(row['Total Weight (kg)'] - row['Weight Slabs'], 0)\n",
        "    additional_charge = additional_weight * row['Forward Additional Weight Slab Charge']\n",
        "    return fixed_charge + additional_charge"
      ],
      "metadata": {
        "id": "nXlFzZ_HlTL1"
      },
      "execution_count": 80,
      "outputs": []
    },
    {
      "cell_type": "code",
      "source": [
        "# Calculate the billing amount for each order\n",
        "order_rates['Calculated Billing Amount'] = order_rates.apply(calculate_billing_amount, axis=1)"
      ],
      "metadata": {
        "id": "fXHTX726lUk_"
      },
      "execution_count": 81,
      "outputs": []
    },
    {
      "cell_type": "code",
      "source": [
        "# Merge the calculated billing amount with the actual billing amount\n",
        "final_comparison = pd.merge(order_rates, courier_invoice[['Order ID', 'Billing Amount (Rs.)']], left_on='Order ID', right_on='Order ID', how='left')"
      ],
      "metadata": {
        "id": "EV2vl-PklY_y"
      },
      "execution_count": 61,
      "outputs": []
    },
    {
      "cell_type": "code",
      "source": [
        "# Determine the charge status for each order\n",
        "final_comparison['Charge Status'] = 'Correctly Charged'\n",
        "final_comparison.loc[final_comparison['Calculated Billing Amount'] > final_comparison['Billing Amount (Rs.)'], 'Charge Status'] = 'Under Charged'\n",
        "final_comparison.loc[final_comparison['Calculated Billing Amount'] < final_comparison['Billing Amount (Rs.)'], 'Charge Status'] = 'Over Charged'"
      ],
      "metadata": {
        "id": "5Ita7j2TlnaP"
      },
      "execution_count": 82,
      "outputs": []
    },
    {
      "cell_type": "code",
      "source": [
        "# Count the number of orders for each charge status\n",
        "charge_status_counts = final_comparison['Charge Status'].value_counts().reset_index()\n",
        "charge_status_counts.columns = ['Charge Status', 'Count']\n"
      ],
      "metadata": {
        "id": "MimvHabplozD"
      },
      "execution_count": 83,
      "outputs": []
    },
    {
      "cell_type": "code",
      "source": [
        "# Calculate the total amount for each charge status\n",
        "charge_status_amounts = final_comparison.groupby('Charge Status')['Billing Amount (Rs.)'].sum().reset_index()\n",
        "charge_status_amounts.columns = ['Charge Status', 'Amount']"
      ],
      "metadata": {
        "id": "wH1HJIFxlsws"
      },
      "execution_count": 84,
      "outputs": []
    },
    {
      "cell_type": "code",
      "source": [
        "# Merge the counts and amounts\n",
        "final_result = pd.merge(charge_status_counts, charge_status_amounts, on='Charge Status', how='left')\n"
      ],
      "metadata": {
        "id": "K83SDfgtlw8V"
      },
      "execution_count": 85,
      "outputs": []
    },
    {
      "cell_type": "code",
      "source": [
        "print(final_result)"
      ],
      "metadata": {
        "colab": {
          "base_uri": "https://localhost:8080/"
        },
        "id": "SOeRjBMJl0rd",
        "outputId": "a7ccbe0c-eccb-4b73-9ffe-8c89f718ebb3"
      },
      "execution_count": 86,
      "outputs": [
        {
          "output_type": "stream",
          "name": "stdout",
          "text": [
            "       Charge Status  Count   Amount\n",
            "0  Correctly Charged    174  18432.8\n"
          ]
        }
      ]
    }
  ]
}